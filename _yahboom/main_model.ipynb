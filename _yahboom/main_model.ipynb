{
 "cells": [
  {
   "cell_type": "code",
   "execution_count": 1,
   "metadata": {},
   "outputs": [
    {
     "name": "stdout",
     "output_type": "stream",
     "text": [
      "serial Open!\n"
     ]
    }
   ],
   "source": [
    "# from main_control import Servo, Camera, Robot, BatteryLevel\n",
    "from console_control import _controller, Controller\n",
    "from utils import aug_view, aug_road, FPS\n",
    "\n",
    "import time\n",
    "import cv2"
   ]
  },
  {
   "cell_type": "code",
   "execution_count": 2,
   "metadata": {},
   "outputs": [
    {
     "name": "stdout",
     "output_type": "stream",
     "text": [
      "WARNING:tensorflow:No training configuration found in save file, so the model was *not* compiled. Compile it manually.\n",
      "loaded\n",
      "Model: \"functional_1\"\n",
      "_________________________________________________________________\n",
      "Layer (type)                 Output Shape              Param #   \n",
      "=================================================================\n",
      "input_1 (InputLayer)         [(None, 96, 96, 1)]       0         \n",
      "_________________________________________________________________\n",
      "dropout (Dropout)            (None, 96, 96, 1)         0         \n",
      "_________________________________________________________________\n",
      "conv2d (Conv2D)              (None, 32, 32, 16)        1312      \n",
      "_________________________________________________________________\n",
      "conv2d_1 (Conv2D)            (None, 16, 16, 32)        4640      \n",
      "_________________________________________________________________\n",
      "conv2d_2 (Conv2D)            (None, 8, 8, 64)          18496     \n",
      "_________________________________________________________________\n",
      "average_pooling2d (AveragePo (None, 4, 4, 64)          0         \n",
      "_________________________________________________________________\n",
      "flatten (Flatten)            (None, 1024)              0         \n",
      "_________________________________________________________________\n",
      "dense (Dense)                (None, 64)                65600     \n",
      "_________________________________________________________________\n",
      "dense_1 (Dense)              (None, 2)                 130       \n",
      "=================================================================\n",
      "Total params: 90,178\n",
      "Trainable params: 90,178\n",
      "Non-trainable params: 0\n",
      "_________________________________________________________________\n",
      "predicted\n"
     ]
    }
   ],
   "source": [
    "control = Controller()\n",
    "\n",
    "import tensorflow as tf\n",
    "import numpy as np\n",
    "\n",
    "model = tf.keras.models.load_model('models/custom_model.tf', custom_objects={'tf':tf})\n",
    "print('loaded')\n",
    "model.summary()\n",
    "input_data = np.zeros((1, 96, 96, 1), dtype=np.float32)\n",
    "model(input_data)\n",
    "print('predicted')"
   ]
  },
  {
   "cell_type": "code",
   "execution_count": 8,
   "metadata": {},
   "outputs": [],
   "source": [
    "def stream_n_move(img):\n",
    "    global pred_left, pred_right\n",
    "    cv2.imwrite('main.jpg', img)\n",
    "    try:\n",
    "        img = cv2.rectangle(img, pt1=(0,      int(224/2)), pt2=(20,  int((224/2) + ((224/2)*pred_left))),  color=(33, 22, 132), thickness=-1)\n",
    "        img = cv2.rectangle(img, pt1=(224-20, int(224/2)), pt2=(224, int((224/2) + ((224/2)*pred_right))), color=(33, 22, 132), thickness=-1)\n",
    "    except NameError: pass\n",
    "    return img"
   ]
  },
  {
   "cell_type": "code",
   "execution_count": 5,
   "metadata": {},
   "outputs": [
    {
     "name": "stdout",
     "output_type": "stream",
     "text": [
      "First prediction starting\n",
      "First prediction finished\n"
     ]
    }
   ],
   "source": [
    "import threading\n",
    "stopper = False\n",
    "first_pred = True\n",
    "\n",
    "def control_thread():\n",
    "    global stopper, first_pred, control, pred_left, pred_right\n",
    "    while not stopper:\n",
    "        img = control.camera.get_image(dtype='array')\n",
    "        img = cv2.resize(img, (224, 224))\n",
    "        img = np.expand_dims(img.astype(np.float32)/255, axis=0)\n",
    "        \n",
    "        if first_pred: \n",
    "            print('First prediction starting')\n",
    "        \n",
    "        pred_left, pred_right = model(img, training=False).numpy()[0]\n",
    "            \n",
    "        if first_pred: \n",
    "            first_pred = False\n",
    "            print('First prediction finished')\n",
    "        \n",
    "        pred_left, pred_right = float(pred_left), float(pred_right)\n",
    "        \n",
    "#         control.robot.custom_steer(-pred_left, -pred_right, 0.7, \n",
    "#                                                1.0, 1.0, 1.0, 1.0)\n",
    "        time.sleep(0.05)\n",
    "    control.robot.stop()\n",
    "    \n",
    "thread = threading.Thread(target=control_thread)\n",
    "thread.start()"
   ]
  },
  {
   "cell_type": "code",
   "execution_count": 9,
   "metadata": {},
   "outputs": [
    {
     "data": {
      "application/vnd.jupyter.widget-view+json": {
       "model_id": "747997d34fb048af843e96ec72d129b4",
       "version_major": 2,
       "version_minor": 0
      },
      "text/plain": [
       "Image(value=b'\\xff\\xd8\\xff\\xe0\\x00\\x10JFIF\\x00\\x01\\x01\\x00\\x00\\x01\\x00\\x01\\x00\\x00\\xff\\xdb\\x00C\\x00\\x02\\x01\\x0…"
      ]
     },
     "metadata": {},
     "output_type": "display_data"
    }
   ],
   "source": [
    "control.servo.goto(pitch=-45)\n",
    "control.camera.start_stream(stream_n_move)\n",
    "display(control.camera.stream)"
   ]
  },
  {
   "cell_type": "code",
   "execution_count": 7,
   "metadata": {},
   "outputs": [],
   "source": [
    "stopper = True"
   ]
  },
  {
   "cell_type": "code",
   "execution_count": null,
   "metadata": {},
   "outputs": [],
   "source": [
    "control.robot.stop()"
   ]
  },
  {
   "cell_type": "code",
   "execution_count": null,
   "metadata": {},
   "outputs": [],
   "source": []
  }
 ],
 "metadata": {
  "kernelspec": {
   "display_name": "Python 3",
   "language": "python",
   "name": "python3"
  },
  "language_info": {
   "codemirror_mode": {
    "name": "ipython",
    "version": 3
   },
   "file_extension": ".py",
   "mimetype": "text/x-python",
   "name": "python",
   "nbconvert_exporter": "python",
   "pygments_lexer": "ipython3",
   "version": "3.7.3"
  }
 },
 "nbformat": 4,
 "nbformat_minor": 4
}
