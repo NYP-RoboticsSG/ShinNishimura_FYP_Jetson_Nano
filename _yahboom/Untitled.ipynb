{
 "cells": [
  {
   "cell_type": "code",
   "execution_count": 5,
   "metadata": {},
   "outputs": [],
   "source": [
    "import ipywidgets.widgets as widgets\n",
    "_controller = widgets.Controller(index=0)\n"
   ]
  },
  {
   "cell_type": "code",
   "execution_count": 13,
   "metadata": {},
   "outputs": [
    {
     "name": "stdout",
     "output_type": "stream",
     "text": [
      "Controller(axes=(Axis(value=0.0), Axis(value=0.0), Axis(value=0.0), Axis(value=0.0), Axis(value=0.0), Axis(value=0.0)), buttons=(Button(value=0.0), Button(value=0.0), Button(value=0.0), Button(value=1.0, pressed=True), Button(value=0.0), Button(value=0.0), Button(value=0.0), Button(value=0.0), Button(value=0.0), Button(value=0.0), Button(value=0.0), Button(value=0.0)), connected=True, name=' USB Gamepad           (Vendor: 0810 Product: 0001)', timestamp=1433204.4400000004)\n"
     ]
    }
   ],
   "source": [
    "print(_controller)\n",
    "\n",
    "# camera = Camera()\n",
    "# robot  = Robot()\n",
    "# robot.stop()\n",
    "# servo  = Servo()"
   ]
  },
  {
   "cell_type": "code",
   "execution_count": 11,
   "metadata": {},
   "outputs": [
    {
     "name": "stdout",
     "output_type": "stream",
     "text": [
      "Controller(axes=(Axis(value=0.0), Axis(value=0.0), Axis(value=0.0), Axis(value=0.0), Axis(value=0.0), Axis(value=0.0)), buttons=(Button(value=0.0), Button(value=0.0), Button(value=0.0), Button(value=0.0), Button(value=0.0), Button(value=0.0), Button(value=0.0), Button(value=0.0), Button(value=0.0), Button(value=0.0), Button(value=0.0), Button(value=0.0)), connected=True, name=' USB Gamepad           (Vendor: 0810 Product: 0001)', timestamp=1240786.365)\n"
     ]
    }
   ],
   "source": [
    "print(_controller)"
   ]
  },
  {
   "cell_type": "code",
   "execution_count": 3,
   "metadata": {},
   "outputs": [],
   "source": [
    "import cv2\n",
    "import numpy as np\n",
    "def dist_markings(img, camera_view=np.radians(30)):\n",
    "\n",
    "    global line_1, line_2\n",
    "    try:\n",
    "        padsize = 600\n",
    "        white = (255, 255, 255)\n",
    "        img = np.pad(img, ((padsize, padsize), (0, 0), (0, 0)), 'edge')\n",
    "        img = img[padsize+int(line_2): padsize+int(line_1)]\n",
    "    except NameError: pass\n",
    "    \n",
    "#     h = img.shape[0]\n",
    "#     origin = np.float32([[0, 0], [224, 0], [0-np.tan(camera_view)*h, h], [224+np.tan(camera_view)*h, h]])\n",
    "#     new = np.float32([[0, 0], [224, 0], [0, h], [224, h]])\n",
    "#     M = cv2.getPerspectiveTransform(origin, new)\n",
    "#     img = cv2.warpPerspective(img, M, (224, h))\n",
    "    img = cv2.resize(img, (224, 224))\n",
    "    return img"
   ]
  },
  {
   "cell_type": "code",
   "execution_count": 4,
   "metadata": {},
   "outputs": [
    {
     "data": {
      "application/vnd.jupyter.widget-view+json": {
       "model_id": "693bde4e24ef4133b37b5cb2d29342f6",
       "version_major": 2,
       "version_minor": 0
      },
      "text/plain": [
       "Image(value=b'\\xff\\xd8\\xff\\xe0\\x00\\x10JFIF\\x00\\x01\\x01\\x00\\x00\\x01\\x00\\x01\\x00\\x00\\xff\\xdb\\x00C\\x00\\x02\\x01\\x0…"
      ]
     },
     "metadata": {},
     "output_type": "display_data"
    }
   ],
   "source": [
    "camera.start_stream(dist_markings)\n",
    "display(camera.stream)"
   ]
  },
  {
   "cell_type": "code",
   "execution_count": 7,
   "metadata": {},
   "outputs": [],
   "source": [
    "servo.goto(0, -45)\n",
    "time.sleep(0.1)\n",
    "for n in range(100):\n",
    "    servo.goto(0, servo.pitch+0.2)\n",
    "    time.sleep(0.05)\n",
    "    line_1 = dist2pixel(servo.pitch, 50)\n",
    "    line_2 = dist2pixel(servo.pitch, 1000)\n",
    "servo.goto(0, -45)\n",
    "line_1 = dist2pixel(servo.pitch, 50)\n",
    "line_2 = dist2pixel(servo.pitch, 1000)"
   ]
  },
  {
   "cell_type": "code",
   "execution_count": 8,
   "metadata": {},
   "outputs": [],
   "source": [
    "camera.save_image()"
   ]
  },
  {
   "cell_type": "code",
   "execution_count": 3,
   "metadata": {},
   "outputs": [],
   "source": [
    "robot.stop()"
   ]
  },
  {
   "cell_type": "code",
   "execution_count": null,
   "metadata": {},
   "outputs": [],
   "source": []
  },
  {
   "cell_type": "code",
   "execution_count": null,
   "metadata": {},
   "outputs": [],
   "source": []
  }
 ],
 "metadata": {
  "kernelspec": {
   "display_name": "Python 3",
   "language": "python",
   "name": "python3"
  },
  "language_info": {
   "codemirror_mode": {
    "name": "ipython",
    "version": 3
   },
   "file_extension": ".py",
   "mimetype": "text/x-python",
   "name": "python",
   "nbconvert_exporter": "python",
   "pygments_lexer": "ipython3",
   "version": "3.6.9"
  }
 },
 "nbformat": 4,
 "nbformat_minor": 4
}
