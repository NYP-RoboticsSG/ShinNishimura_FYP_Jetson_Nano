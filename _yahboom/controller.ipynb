{
 "cells": [
  {
   "cell_type": "code",
   "execution_count": 1,
   "metadata": {},
   "outputs": [
    {
     "name": "stdout",
     "output_type": "stream",
     "text": [
      "serial Open!\n"
     ]
    }
   ],
   "source": [
    "from console_control import _controller, Controller\n",
    "import time"
   ]
  },
  {
   "cell_type": "code",
   "execution_count": 2,
   "metadata": {},
   "outputs": [
    {
     "name": "stdout",
     "output_type": "stream",
     "text": [
      "started\n",
      "(Axis(value=0.003921627998352051), Axis(value=0.003921627998352051), Axis(value=0.003921627998352051), Axis(value=0.0), Axis(value=0.0), Axis(value=0.003921627998352051), Axis(value=0.0), Axis(value=0.0), Axis(value=0.0), Axis(value=0.0))\n"
     ]
    }
   ],
   "source": [
    "print(_controller)\n",
    "control = Controller()\n",
    "control.start_thread()"
   ]
  },
  {
   "cell_type": "code",
   "execution_count": 17,
   "metadata": {},
   "outputs": [
    {
     "name": "stdout",
     "output_type": "stream",
     "text": [
      "-1.0 -1.0\n"
     ]
    }
   ],
   "source": [
    "# print(_controller.axes)\n",
    "# (_controller.axes[1].value != 0.0) or (_controller.axes[2].value != 0.0)\n",
    "print(_controller.axes[1].value, _controller.axes[2].value)"
   ]
  },
  {
   "cell_type": "code",
   "execution_count": 15,
   "metadata": {},
   "outputs": [],
   "source": [
    "control.servo.goto(pitch=-30)"
   ]
  },
  {
   "cell_type": "code",
   "execution_count": 11,
   "metadata": {},
   "outputs": [],
   "source": [
    "import numpy as np\n",
    "import cv2\n",
    "def flatten(img, camera_view=np.radians(35)):\n",
    "    origin = np.float32([[0, 0], [224, 0], [0-np.tan(camera_view)*224, 224], [224+np.tan(camera_view)*224, 224]])\n",
    "    new = np.float32([[0, 0], [224, 0], [0, 224], [224, 224]])\n",
    "    M = cv2.getPerspectiveTransform(origin, new)\n",
    "    newimg = cv2.warpPerspective(img, M, (224, 224))\n",
    "    return newimg\n",
    "    "
   ]
  },
  {
   "cell_type": "code",
   "execution_count": 12,
   "metadata": {},
   "outputs": [
    {
     "data": {
      "application/vnd.jupyter.widget-view+json": {
       "model_id": "3efb70d004dc4d9985a318c6247696f3",
       "version_major": 2,
       "version_minor": 0
      },
      "text/plain": [
       "Image(value=b'\\xff\\xd8\\xff\\xe0\\x00\\x10JFIF\\x00\\x01\\x01\\x00\\x00\\x01\\x00\\x01\\x00\\x00\\xff\\xdb\\x00C\\x00\\x02\\x01\\x0…"
      ]
     },
     "metadata": {},
     "output_type": "display_data"
    }
   ],
   "source": [
    "control.camera.start_stream(flatten)\n",
    "display(control.camera.stream)"
   ]
  },
  {
   "cell_type": "code",
   "execution_count": null,
   "metadata": {},
   "outputs": [],
   "source": []
  },
  {
   "cell_type": "code",
   "execution_count": null,
   "metadata": {},
   "outputs": [],
   "source": []
  }
 ],
 "metadata": {
  "kernelspec": {
   "display_name": "Python 3",
   "language": "python",
   "name": "python3"
  },
  "language_info": {
   "codemirror_mode": {
    "name": "ipython",
    "version": 3
   },
   "file_extension": ".py",
   "mimetype": "text/x-python",
   "name": "python",
   "nbconvert_exporter": "python",
   "pygments_lexer": "ipython3",
   "version": "3.6.9"
  }
 },
 "nbformat": 4,
 "nbformat_minor": 4
}
